{
 "cells": [
  {
   "cell_type": "markdown",
   "id": "648283a4",
   "metadata": {},
   "source": [
    "Q-1. Write an SQL query to print the FIRST_NAME from Worker table after removing white spaces from the right side.\n",
    "\n",
    "Ans: select rtrim(FIRST_NAME) from Worker;\n",
    "\n",
    "\n",
    "Q-2. Write an SQL query that fetches the unique values of DEPARTMENT from Worker table and prints its length.\n",
    "\n",
    "Ans: Select distinct(DEPARTMENT),length(DEPARTMENT) from Worker;\n",
    "\n",
    "\n",
    "Q-3. Write an SQL query to fetch nth max salaries from a table.\n",
    "\n",
    "Ans: select distinct(salary) from Worker order by salary desc limit 1 offset n;\n"
   ]
  }
 ],
 "metadata": {
  "kernelspec": {
   "display_name": "Python 3 (ipykernel)",
   "language": "python",
   "name": "python3"
  },
  "language_info": {
   "codemirror_mode": {
    "name": "ipython",
    "version": 3
   },
   "file_extension": ".py",
   "mimetype": "text/x-python",
   "name": "python",
   "nbconvert_exporter": "python",
   "pygments_lexer": "ipython3",
   "version": "3.9.7"
  }
 },
 "nbformat": 4,
 "nbformat_minor": 5
}
