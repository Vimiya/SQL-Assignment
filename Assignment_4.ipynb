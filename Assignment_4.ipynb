{
 "cells": [
  {
   "cell_type": "markdown",
   "id": "3cfa26b3",
   "metadata": {},
   "source": [
    "Q-1. Write an SQL query to print the FIRST_NAME from Worker table after replacing ‘a’ with ‘A’.\n",
    "\n",
    "Ans: Select replace(FIRST_NAME,'a','A') from Worker;\n",
    "\n",
    "\n",
    "Q-2. Write an SQL query to print all Worker details from the Worker table order by FIRST_NAME Ascending and DEPARTMENT Descending.\n",
    "\n",
    "Ans: Select * from Worker order by FIRST_NAME asc, DEPARTMENT desc;\n",
    "\n",
    "\n",
    "Q-3. Write an SQL query to fetch the names of workers who earn the highest salary.\n",
    "\n",
    "Ans: Select FIRST_NAME, LAST_NAME, salary from Worker where salary=(Select max(salary) from Worker);  "
   ]
  }
 ],
 "metadata": {
  "kernelspec": {
   "display_name": "Python 3 (ipykernel)",
   "language": "python",
   "name": "python3"
  },
  "language_info": {
   "codemirror_mode": {
    "name": "ipython",
    "version": 3
   },
   "file_extension": ".py",
   "mimetype": "text/x-python",
   "name": "python",
   "nbconvert_exporter": "python",
   "pygments_lexer": "ipython3",
   "version": "3.9.7"
  }
 },
 "nbformat": 4,
 "nbformat_minor": 5
}
