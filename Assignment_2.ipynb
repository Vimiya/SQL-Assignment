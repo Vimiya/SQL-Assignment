{
 "cells": [
  {
   "cell_type": "markdown",
   "id": "0393e3e1",
   "metadata": {},
   "source": [
    "Q-1. Write an SQL query to print the first three characters of  FIRST_NAME from Worker table.\n",
    "\n",
    "Ans: SELECT LEFT(FIRST_NAME,3) FROM Worker;\n",
    "\n",
    "\n",
    "\n",
    " Q-2. Write an SQL query to find the position of the alphabet (‘a’) in the first name column ‘Amitabh’ from Worker table.\n",
    " \n",
    " Ans: SELECT LOCATE('a',FIRST_NAME) FROM Worker WHERE FIRST_NAME='Amitabh';\n",
    " \n",
    " \n",
    "Q-3. Write an SQL query to print the name of employees having the highest salary in each department.\n",
    "\n",
    "Ans: Select first_name, last_name, salary, department from Worker w where salary=(select max(salary) from Worker where department=w.department);"
   ]
  }
 ],
 "metadata": {
  "kernelspec": {
   "display_name": "Python 3 (ipykernel)",
   "language": "python",
   "name": "python3"
  },
  "language_info": {
   "codemirror_mode": {
    "name": "ipython",
    "version": 3
   },
   "file_extension": ".py",
   "mimetype": "text/x-python",
   "name": "python",
   "nbconvert_exporter": "python",
   "pygments_lexer": "ipython3",
   "version": "3.9.7"
  }
 },
 "nbformat": 4,
 "nbformat_minor": 5
}
