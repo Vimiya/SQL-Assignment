{
 "cells": [
  {
   "cell_type": "markdown",
   "id": "06da08a4",
   "metadata": {},
   "source": [
    "Q-17. Write an SQL query to show the top n (say 10) records of a table.\n",
    "\n",
    "Ans: Select * from Worker limit 10;\n",
    "\n",
    "\n",
    "Q-18. Write an SQL query to determine the nth (say n=5) highest salary from a table.\n",
    "\n",
    "Ans: Select distinct(salary) from Worker order by salary desc limit 1 offset 5;\n"
   ]
  }
 ],
 "metadata": {
  "kernelspec": {
   "display_name": "Python 3 (ipykernel)",
   "language": "python",
   "name": "python3"
  },
  "language_info": {
   "codemirror_mode": {
    "name": "ipython",
    "version": 3
   },
   "file_extension": ".py",
   "mimetype": "text/x-python",
   "name": "python",
   "nbconvert_exporter": "python",
   "pygments_lexer": "ipython3",
   "version": "3.9.7"
  }
 },
 "nbformat": 4,
 "nbformat_minor": 5
}
