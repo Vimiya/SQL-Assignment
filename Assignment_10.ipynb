{
 "cells": [
  {
   "cell_type": "markdown",
   "id": "c6930ed5",
   "metadata": {},
   "source": [
    "Q-19. Write an SQL query to determine the 5th highest salary without using TOP or limit method.\n",
    "\n",
    "Ans: \n",
    "Select min(salary) from (select distinct(salary) from Employee order by salary desc) where rownum<6;\n",
    "\n",
    "Q-20. Write an SQL query to fetch the list of employees with the same salary.\n",
    "\n",
    "Ans: SELECT s1.emp_id,s1.first_name, s1.last_name, s1.salary\n",
    "FROM Employee s1\n",
    "INNER JOIN Employee s2 ON s1.salary = s2.salary AND s1.emp_id <> s2.emp_id\n"
   ]
  }
 ],
 "metadata": {
  "kernelspec": {
   "display_name": "Python 3 (ipykernel)",
   "language": "python",
   "name": "python3"
  },
  "language_info": {
   "codemirror_mode": {
    "name": "ipython",
    "version": 3
   },
   "file_extension": ".py",
   "mimetype": "text/x-python",
   "name": "python",
   "nbconvert_exporter": "python",
   "pygments_lexer": "ipython3",
   "version": "3.9.7"
  }
 },
 "nbformat": 4,
 "nbformat_minor": 5
}
