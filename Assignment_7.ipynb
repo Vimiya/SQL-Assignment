{
 "cells": [
  {
   "cell_type": "markdown",
   "id": "ba4128e1",
   "metadata": {},
   "source": [
    "Q-13. Write an SQL query to show only odd rows from a table.\n",
    "\n",
    "Ans: Select * from Worker where MOD(worker_id,2)=1;\n",
    "\n",
    "\n",
    "\n",
    "Q-14. Write an SQL query to clone a new table from another table.\n",
    "\n",
    "Ans: \n",
    "\n",
    "step 1) To create an empty table Worker_clone based on the definition of existing Worker table.Query is as follows:\n",
    "\n",
    "Create table Worker_clone like Worker;\n",
    "\n",
    "step 2)execute another SQL statement which inserts all the records from Worker table into Worker_clone table.\n",
    "\n",
    "Insert into Worker_clone Select * from Worker;"
   ]
  }
 ],
 "metadata": {
  "kernelspec": {
   "display_name": "Python 3 (ipykernel)",
   "language": "python",
   "name": "python3"
  },
  "language_info": {
   "codemirror_mode": {
    "name": "ipython",
    "version": 3
   },
   "file_extension": ".py",
   "mimetype": "text/x-python",
   "name": "python",
   "nbconvert_exporter": "python",
   "pygments_lexer": "ipython3",
   "version": "3.9.7"
  }
 },
 "nbformat": 4,
 "nbformat_minor": 5
}
