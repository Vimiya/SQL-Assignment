{
 "cells": [
  {
   "cell_type": "markdown",
   "id": "9f8db105",
   "metadata": {},
   "source": [
    "Q-1. Write an SQL query to print details of the Workers who have joined in Feb’2014.\n",
    "\n",
    "Ans: select * from Worker where year(JOINING_DATE)=2014 and month(JOINING_DATE)=02;\n",
    "\n",
    "OR\n",
    "\n",
    "select * from Worker where JOINING_DATE like '2014-02-%'\n",
    "\n",
    "\n",
    "Q-2. Write an SQL query to fetch duplicate records having matching data in some fields of a table.\n",
    "\n",
    "Ans: Select column_name, count(column_name) from Worker group by field having count(column_name)>1;\n",
    "\n",
    "\n",
    "\n",
    "Q-3. How to remove duplicate rows from Employees table.\n",
    "\n",
    "Ans: \n"
   ]
  }
 ],
 "metadata": {
  "kernelspec": {
   "display_name": "Python 3 (ipykernel)",
   "language": "python",
   "name": "python3"
  },
  "language_info": {
   "codemirror_mode": {
    "name": "ipython",
    "version": 3
   },
   "file_extension": ".py",
   "mimetype": "text/x-python",
   "name": "python",
   "nbconvert_exporter": "python",
   "pygments_lexer": "ipython3",
   "version": "3.9.7"
  }
 },
 "nbformat": 4,
 "nbformat_minor": 5
}
